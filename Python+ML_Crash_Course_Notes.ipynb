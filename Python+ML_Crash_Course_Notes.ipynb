{
  "nbformat": 4,
  "nbformat_minor": 0,
  "metadata": {
    "colab": {
      "name": "Python+ML Crash Course Notes.ipynb",
      "provenance": [],
      "collapsed_sections": [],
      "toc_visible": true,
      "authorship_tag": "ABX9TyPUX7X7brWG7A93mULem7kh",
      "include_colab_link": true
    },
    "kernelspec": {
      "name": "python3",
      "display_name": "Python 3"
    }
  },
  "cells": [
    {
      "cell_type": "markdown",
      "metadata": {
        "id": "view-in-github",
        "colab_type": "text"
      },
      "source": [
        "<a href=\"https://colab.research.google.com/github/JetPlaneJJ/Python-ML-CrashCourse-Notes/blob/main/Python%2BML_Crash_Course_Notes.ipynb\" target=\"_parent\"><img src=\"https://colab.research.google.com/assets/colab-badge.svg\" alt=\"Open In Colab\"/></a>"
      ]
    },
    {
      "cell_type": "markdown",
      "metadata": {
        "id": "wKzGrIfcI0aj"
      },
      "source": [
        "# **This notebook contains: short exercise refreshers on python, image recognition sample using ImageAI's model training class, and notes on Google's ML crash course.**\n",
        "*italicized text*\n",
        "*Note: ImageAI does not support Tensorflow 2 right now.*"
      ]
    },
    {
      "cell_type": "markdown",
      "metadata": {
        "id": "JAHa1bdpPlf4"
      },
      "source": [
        "# Python refreshers\n"
      ]
    },
    {
      "cell_type": "code",
      "metadata": {
        "id": "o6jrQ1aqH_x4"
      },
      "source": [
        "# Dependencies \n",
        "# !pip install imageai\n",
        "# !pip install keras\n",
        "# !pip install numpy\n",
        "# !pip install opencv-python\n",
        "# !pip install tensorflow==1.13.1\n",
        "!pip show tensorflow"
      ],
      "execution_count": null,
      "outputs": []
    },
    {
      "cell_type": "markdown",
      "metadata": {
        "id": "RN9XBfeBQJD9"
      },
      "source": [
        "## Important built-in functions/types to remember\n",
        "- dir() – lists out the objects attributes in current namespace.\n",
        "- int() - converts string or number to Int\n",
        "- input() - reads user input (prompt)\n",
        "- range(start,end,step) or range(end) - returns an object that produces a sequence of numbers.\n",
        "- isdigit() - checks digits in strings\n",
        "- pop() - remove list item\n",
        "- sorted() - sorts entire list\n",
        "- set() - mutable collection of unique items\n",
        "\n",
        "## Important syntax\n",
        "- elif = else if\n",
        "- and or is in\n",
        "- try --> except --> else --> finally"
      ]
    },
    {
      "cell_type": "code",
      "metadata": {
        "id": "hTdBJ6KHQkLD"
      },
      "source": [
        "# Short coding examples\n",
        "name = \"Alex\"\n",
        "print(name)\n",
        "name2 = 'Mary'\n",
        "print(name is name2)\n",
        "\n",
        "print('t' in 'Python')\n",
        "python_string = 'Python'\n",
        "python_string += '2.7'\n",
        "print(python_string)\n"
      ],
      "execution_count": null,
      "outputs": []
    },
    {
      "cell_type": "markdown",
      "metadata": {
        "id": "T16jU228Q3qG"
      },
      "source": [
        "## Data Structures\n",
        "List and Tuple sequences are heterogeneous types (objects of diff types)\n"
      ]
    },
    {
      "cell_type": "code",
      "metadata": {
        "id": "9A-DOR7qQ3Mk"
      },
      "source": [
        "# tuples\n",
        "pos1 = (24,50)\n",
        "t1 = (1,'mango',2,'mango',3,'strawberry',4,'peach')\n",
        "print(t1.count('mango'))\n",
        "print(pos1[0])\n",
        "\n",
        "# lists (functionally same as arrays, except mutable!)\n",
        "cars = [\"Ford\", \"Volvo\", \"BMW\"]\n",
        "cars.append(\"Honda\")\n",
        "cars.remove(\"Ford\")"
      ],
      "execution_count": null,
      "outputs": []
    },
    {
      "cell_type": "markdown",
      "metadata": {
        "id": "pcGUSTdDQGWX"
      },
      "source": [
        "## Classes, Magic Methods\n",
        "- \\__int\\__(self, …) – initializer method invoked during object creation.\n",
        "- \\__add\\__(self ,other) – overloads object's addition\n",
        "- \\__eq\\__(self,other) - overloads equality comparison for object\n",
        "- all class members are public, no private/protected/friend"
      ]
    },
    {
      "cell_type": "code",
      "metadata": {
        "id": "yn1wX_MbTXA7",
        "outputId": "a9f6fe13-eddb-4d01-a863-e79c77b6da6f",
        "colab": {
          "base_uri": "https://localhost:8080/"
        }
      },
      "source": [
        "# classes\n",
        "class MyClass:\n",
        "  val = 0\n",
        "  def __init__(self, value):\n",
        "    self.val = value\n",
        "  def set(self, value):\n",
        "    self.val = value\n",
        "  def get(self, value):\n",
        "    return self.val \n",
        "\n",
        "c = MyClass(10)\n",
        "print(c.val)"
      ],
      "execution_count": 12,
      "outputs": [
        {
          "output_type": "stream",
          "text": [
            "10\n"
          ],
          "name": "stdout"
        }
      ]
    },
    {
      "cell_type": "markdown",
      "metadata": {
        "id": "Ue5ZxwJCUg_u"
      },
      "source": [
        "## File Handling\n",
        "- file_handle = open(file_name, *access_mode*) --> reference to file object\n",
        "  - access_mode = how to read the file\n",
        "    - ‘U’: all line terminators = new line\n",
        "    - ‘+’ #read and write\n",
        "    - ‘b’ # binary\n",
        "    - ‘t’ # text mode\n",
        "  - can also access in combination: ‘rb’, ‘rt’, ‘wb’...\n",
        "\n",
        "- readline() - from file 1 line as 1 string\n",
        "- write() - write 1 string to file"
      ]
    },
    {
      "cell_type": "markdown",
      "metadata": {
        "id": "kPzJxDRpPpQi"
      },
      "source": [
        "# ImageAI classification examples "
      ]
    },
    {
      "cell_type": "code",
      "metadata": {
        "id": "IxZ0gPV-IVS0"
      },
      "source": [
        "from imageai.Prediction.Custom import ModelTraining\n",
        "\n",
        "# Create an instance of model train class\n",
        "model_trainer = ModelTraining() \n",
        "\n",
        "# 4 model types: SqueezeNet, ResNet, InceptionV3 and DenseNet)\n",
        "model_trainer.setModelTypeAsResNet() \n",
        "\n",
        "# Set location of data to train on to idenprof\n",
        "model_trainer.setDataDirectory(\"idenprof\")\n",
        "\n",
        "# num_objects = # diff categories (ex: jobs)\n",
        "# num_experiments = # times study all the images to achieve max accuracy.\n",
        "# enhance_data = tell trainer to create modified copies of the images to \n",
        "#                ensure maximum accuracy is achieved.\n",
        "# batch_size = # images study at once, until it has studied all the images.\n",
        "# show_network_summary = show the structure of the model type we're using.\n",
        "model_trainer.trainModel(num_objects=10, num_experiments=200, enhance_data=True, \n",
        "                         batch_size=32, show_network_summary=True)"
      ],
      "execution_count": null,
      "outputs": []
    },
    {
      "cell_type": "markdown",
      "metadata": {
        "id": "VIQG503VV8pH"
      },
      "source": [
        "\n",
        "See here for the below notes content: https://developers.google.com/machine-learning/crash-course"
      ]
    },
    {
      "cell_type": "markdown",
      "metadata": {
        "id": "68uzijnSWGxn"
      },
      "source": [
        "# Framing\n",
        "- **\"label\"** = thing we wanna see as result (y-variable, ex: future price of Nike shoes)\n",
        "  - labeled examples = specific instance of data with both feature + label\n",
        "  - unlabeled example = feature, but no label (\\{features, ?\\}: (x, ?))\n",
        "- **\"feature\"** = thing we input (eX: time of day email was sent)\n",
        "\n",
        "- **Training:** you \"teach\" model pictures that are already labeled cats and allow it to connect unspecified pics and the label cat.\n",
        "  - Inference = opposite of train, applying the trained model to unlabeled examples, like predicting median house value.\n",
        "- **Regression** = continous predictions\n",
        "- **Classification** = predict discrete values (ex: \"This animal is a cat\", \"This email is spam\")."
      ]
    },
    {
      "cell_type": "markdown",
      "metadata": {
        "id": "rane9h5OYbl8"
      },
      "source": [
        "# Linear Regression\n",
        "- **Empirical risk minimization**: find a model that minimizes loss after seeing many examples.\n",
        "- **Mean square error (MSE)** = avg sqrd loss per example over the whole dataset. In most cases, more accurate than using Total Loss."
      ]
    }
  ]
}